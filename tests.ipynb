{
 "cells": [
  {
   "cell_type": "code",
   "execution_count": 16,
   "metadata": {
    "scrolled": false
   },
   "outputs": [],
   "source": [
    "from game import Game\n",
    "from IPython.display import clear_output\n",
    "from random import sample \n",
    "\n",
    "game = Game()\n",
    "\n",
    "def play_game(game):\n",
    "    print(game.grid)\n",
    "    cmd = input()\n",
    "    cmd_dict = {'u':'up','r':'right','d':'down','l':'left'}\n",
    "    while cmd!='exit':\n",
    "        clear_output()\n",
    "        if cmd in cmd_dict.keys():\n",
    "            game.make_move(cmd_dict[cmd])\n",
    "        else:\n",
    "            game.make_move(cmd)\n",
    "        print(game.grid)\n",
    "        cmd = input()"
   ]
  },
  {
   "cell_type": "code",
   "execution_count": 17,
   "metadata": {},
   "outputs": [],
   "source": [
    "from copy import copy\n",
    "score_hist = []\n",
    "while len(game.infeasible_moves) < 4:\n",
    "    score_hist.append(copy(game.score))\n",
    "    policy = set(['right','up']).difference(set(game.infeasible_moves))\n",
    "    off_policy = set(['left','down']).difference(set(game.infeasible_moves))\n",
    "    if policy:\n",
    "        act = sample(policy, 1)[0]\n",
    "    else:\n",
    "        act = sample(off_policy, 1)[0]\n",
    "    game.make_move(act)"
   ]
  },
  {
   "cell_type": "code",
   "execution_count": 18,
   "metadata": {},
   "outputs": [
    {
     "data": {
      "text/plain": [
       "array([[ 16,   4, 128,   2],\n",
       "       [  8,  32,  16, 128],\n",
       "       [  2,  16,  32,   2],\n",
       "       [  4,   8,   2,   4]])"
      ]
     },
     "execution_count": 18,
     "metadata": {},
     "output_type": "execute_result"
    }
   ],
   "source": [
    "game.grid"
   ]
  },
  {
   "cell_type": "code",
   "execution_count": 4,
   "metadata": {},
   "outputs": [
    {
     "data": {
      "text/plain": [
       "1460"
      ]
     },
     "execution_count": 4,
     "metadata": {},
     "output_type": "execute_result"
    }
   ],
   "source": [
    "game.score"
   ]
  },
  {
   "cell_type": "code",
   "execution_count": null,
   "metadata": {},
   "outputs": [],
   "source": []
  }
 ],
 "metadata": {
  "kernelspec": {
   "display_name": "Python 3",
   "language": "python",
   "name": "python3"
  },
  "language_info": {
   "codemirror_mode": {
    "name": "ipython",
    "version": 3
   },
   "file_extension": ".py",
   "mimetype": "text/x-python",
   "name": "python",
   "nbconvert_exporter": "python",
   "pygments_lexer": "ipython3",
   "version": "3.6.5"
  }
 },
 "nbformat": 4,
 "nbformat_minor": 2
}

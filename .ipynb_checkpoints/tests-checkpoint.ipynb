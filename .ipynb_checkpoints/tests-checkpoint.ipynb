{
 "cells": [
  {
   "cell_type": "code",
   "execution_count": 1,
   "metadata": {
    "scrolled": false
   },
   "outputs": [
    {
     "name": "stdout",
     "output_type": "stream",
     "text": [
      "[[ 0  4  8 32]\n",
      " [ 0  0  0  8]\n",
      " [ 0  0  0  2]\n",
      " [ 0  0  2  0]]\n",
      "exit\n"
     ]
    }
   ],
   "source": [
    "from game import Game\n",
    "from IPython.display import clear_output\n",
    "\n",
    "game = Game()\n",
    "\n",
    "print(game.grid)\n",
    "cmd = input()\n",
    "cmd_dict = {'u':'up','r':'right','d':'down','l':'left'}\n",
    "while cmd!='exit':\n",
    "    clear_output()\n",
    "    if cmd in cmd_dict.keys():\n",
    "        game.make_move(cmd_dict[cmd])\n",
    "    else:\n",
    "        game.make_move(cmd)\n",
    "    print(game.grid)\n",
    "    cmd = input()"
   ]
  }
 ],
 "metadata": {
  "kernelspec": {
   "display_name": "Python 3",
   "language": "python",
   "name": "python3"
  },
  "language_info": {
   "codemirror_mode": {
    "name": "ipython",
    "version": 3
   },
   "file_extension": ".py",
   "mimetype": "text/x-python",
   "name": "python",
   "nbconvert_exporter": "python",
   "pygments_lexer": "ipython3",
   "version": "3.6.5"
  }
 },
 "nbformat": 4,
 "nbformat_minor": 2
}

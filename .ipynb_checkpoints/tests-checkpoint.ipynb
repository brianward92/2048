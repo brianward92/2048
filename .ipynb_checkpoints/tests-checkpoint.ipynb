{
 "cells": [
  {
   "cell_type": "code",
   "execution_count": 1,
   "metadata": {
    "scrolled": false
   },
   "outputs": [],
   "source": [
    "from game import Game\n",
    "from copy import copy\n",
    "\n",
    "import pandas as pd\n",
    "game = Game()"
   ]
  },
  {
   "cell_type": "code",
   "execution_count": 2,
   "metadata": {},
   "outputs": [
    {
     "name": "stdout",
     "output_type": "stream",
     "text": [
      "[[ 32   2  64 256]\n",
      " [  0  16 128   2]\n",
      " [  0   8   2  16]\n",
      " [  0   0   2   4]]\n",
      "exit\n"
     ]
    }
   ],
   "source": [
    "game.play_game()"
   ]
  },
  {
   "cell_type": "code",
   "execution_count": 31,
   "metadata": {},
   "outputs": [],
   "source": [
    "from sklearn.preprocessing import PolynomialFeatures\n",
    "import numpy as np\n",
    "A = copy(game.grid)\n",
    "A[np.where(A==0)] = 1\n",
    "A.shape = (1,16)\n",
    "poly = PolynomialFeatures(degree = 2, interaction_only=False, include_bias=True) # The defaults, but just to make sure.\n",
    "tmp = poly.fit_transform(np.log2(A))"
   ]
  },
  {
   "cell_type": "code",
   "execution_count": 60,
   "metadata": {},
   "outputs": [
    {
     "name": "stdout",
     "output_type": "stream",
     "text": [
      "153\n"
     ]
    }
   ],
   "source": [
    "n_features = tmp.shape[1]\n",
    "print(n_features)\n",
    "w_r = np.random.normal(size=(1,n_features))\n",
    "w_l = np.random.normal(size=(1,n_features))\n",
    "w_u = np.random.normal(size=(1,n_features))\n",
    "w_d = np.random.normal(size=(1,n_features))"
   ]
  },
  {
   "cell_type": "code",
   "execution_count": 37,
   "metadata": {},
   "outputs": [
    {
     "data": {
      "text/plain": [
       "0"
      ]
     },
     "execution_count": 37,
     "metadata": {},
     "output_type": "execute_result"
    }
   ],
   "source": []
  },
  {
   "cell_type": "code",
   "execution_count": 95,
   "metadata": {},
   "outputs": [],
   "source": [
    "def get_state(grid):\n",
    "    grid[np.where(grid==0)] = 1\n",
    "    grid.shape = (1,16)\n",
    "    return poly.fit_transform(np.log2(grid))\n",
    "\n",
    "def get_move_order(val_r, val_l, val_u, val_d, epsilon = 0.05):\n",
    "    lst = [val_r, val_l, val_u, val_d]\n",
    "    idx_max = lst.index(max(lst))\n",
    "    moves = ['right','left','up','down']\n",
    "    optimal_move = moves[idx_max]\n",
    "    moves.pop(idx_max)\n",
    "    if np.random.rand() <= epsilon:\n",
    "        return sample(moves, 3) + [optimal_move]\n",
    "    else:\n",
    "        return [optimal_move] + sample(moves, 3)"
   ]
  },
  {
   "cell_type": "code",
   "execution_count": 96,
   "metadata": {},
   "outputs": [],
   "source": [
    "S = get_state(copy(game.grid)).T"
   ]
  },
  {
   "cell_type": "code",
   "execution_count": 97,
   "metadata": {},
   "outputs": [
    {
     "name": "stdout",
     "output_type": "stream",
     "text": [
      "-236.45158677029582 -48.95600637103655 -108.16222005763318 189.65621039418727\n"
     ]
    }
   ],
   "source": [
    "val_r = w_r.dot(S)[0][0]\n",
    "val_l = w_l.dot(S)[0][0]\n",
    "val_u = w_u.dot(S)[0][0]\n",
    "val_d = w_d.dot(S)[0][0]\n",
    "print(val_r, val_l, val_u, val_d)"
   ]
  },
  {
   "cell_type": "code",
   "execution_count": 98,
   "metadata": {},
   "outputs": [
    {
     "data": {
      "text/plain": [
       "0.4131955040424108"
      ]
     },
     "execution_count": 98,
     "metadata": {},
     "output_type": "execute_result"
    }
   ],
   "source": [
    "np.random.rand()"
   ]
  },
  {
   "cell_type": "code",
   "execution_count": 127,
   "metadata": {},
   "outputs": [
    {
     "data": {
      "text/plain": [
       "['up', 'right', 'left', 'down']"
      ]
     },
     "execution_count": 127,
     "metadata": {},
     "output_type": "execute_result"
    }
   ],
   "source": [
    "get_move_order(val_r, val_l, val_u, val_d)"
   ]
  },
  {
   "cell_type": "code",
   "execution_count": null,
   "metadata": {},
   "outputs": [],
   "source": [
    "\n",
    "N_episodes = 1000\n",
    "\n",
    "for i in range(N_episodes):\n",
    "    game = Game.game()\n",
    "    \n",
    "    S = get_state(copy(game.grid))\n",
    "    \n",
    "    val_r = w_r.dot(S)\n",
    "    val_l = w_l.dot(S)\n",
    "    val_u = w_u.dot(S)\n",
    "    val_d = w_d.dot(S)\n",
    "    \n",
    "    try_order = get_move_order(val_r, val_l, val_u, val_d)\n",
    "    \n",
    "    stop = False\n",
    "    i = 0\n",
    "    while ~stop:\n",
    "        move = try_order[i]\n",
    "        grid0 = copy(game.grid)\n",
    "        score0 = copy(game.score)\n",
    "        game.make_move(move)\n",
    "        if not np.prod(grid0 == self.grid):\n",
    "            stop = True\n",
    "            R = game.score - score0\n",
    "       \n",
    "    S_prime = \n",
    "    if move == 'right':\n",
    "        w_r = w_r + alpha*(R-val_r)\n",
    "    elif move == 'left':\n",
    "        w_l = w_l + alpha*(R-val_l)\n",
    "    elif move == 'up':\n",
    "        w_u = w_u + alpha*(R-val_u)\n",
    "    elif move == 'down':\n",
    "        w_d = w_d + alpha*(R-val_d)\n",
    "        "
   ]
  },
  {
   "cell_type": "code",
   "execution_count": 131,
   "metadata": {},
   "outputs": [
    {
     "data": {
      "text/plain": [
       "True"
      ]
     },
     "execution_count": 131,
     "metadata": {},
     "output_type": "execute_result"
    }
   ],
   "source": [
    "not 0"
   ]
  },
  {
   "cell_type": "code",
   "execution_count": 27,
   "metadata": {},
   "outputs": [
    {
     "data": {
      "text/plain": [
       "array([[ 32,   2,  64, 256,   1,  16, 128,   2,   1,   8,   2,  16,   1,\n",
       "          1,   2,   4]])"
      ]
     },
     "execution_count": 27,
     "metadata": {},
     "output_type": "execute_result"
    }
   ],
   "source": [
    "Input: a differentiable function ^q : S \u0002 A \u0002 Rd ! R\n",
    "Initialize value-function weights w 2 Rd arbitrarily (e.g., w = 0)\n",
    "Repeat (for each episode):\n",
    "S;A   initial state and action of episode (e.g., \"-greedy)\n",
    "Repeat (for each step of episode):\n",
    "Take action A, observe R; S0\n",
    "If S0 is terminal:\n",
    "w   w + \u000b",
    "\n",
    "\u0002\n",
    "R 􀀀 ^q(S; A;w)\n",
    "\u0003\n",
    "r^q(S; A;w)\n",
    "Go to next episode\n",
    "Choose A0 as a function of ^q(S0; \u0001;w) (e.g., \"-greedy)\n",
    "w   w + \u000b",
    "\n",
    "\u0002\n",
    "R + \n",
    " ^q(S0;A0;w) 􀀀 ^q(S; A;w)\n",
    "\u0003\n",
    "r^q(S; A;w)\n",
    "S   S0\n",
    "A   A0"
   ]
  },
  {
   "cell_type": "code",
   "execution_count": 54,
   "metadata": {},
   "outputs": [],
   "source": [
    "data_list = []\n",
    "count = 0\n",
    "target_count = 1000\n",
    "\n",
    "while count < target_count:\n",
    "    game = Game()\n",
    "    score_hist = []\n",
    "    move_hist = []\n",
    "    target_hist = []\n",
    "    off_hist = []\n",
    "    while len(game.infeasible_moves) < 4:\n",
    "        score_hist.append(copy(game.score))\n",
    "        on_target = set(['right','up']).difference(set(game.infeasible_moves))\n",
    "        off_target = set(['left','down']).difference(set(game.infeasible_moves))\n",
    "        if on_target:\n",
    "            act = sample(on_target, 1)[0]\n",
    "        else:\n",
    "            act = sample(off_target, 1)[0]\n",
    "        move_hist.append(act)\n",
    "        target_hist.append(len(on_target))\n",
    "        off_hist.append(len(off_target))\n",
    "        game.make_move(act)\n",
    "    count+=1\n",
    "    data_list.append(pd.DataFrame({'Round':[count]*len(score_hist),'Scores':score_hist, 'Moves':move_hist, \n",
    "                                   'Targets':target_hist, 'Offs':off_hist}))"
   ]
  },
  {
   "cell_type": "code",
   "execution_count": 55,
   "metadata": {},
   "outputs": [],
   "source": [
    "df = pd.concat(data_list)"
   ]
  },
  {
   "cell_type": "code",
   "execution_count": 56,
   "metadata": {},
   "outputs": [
    {
     "data": {
      "text/plain": [
       "count    1000.000000\n",
       "mean     1603.116000\n",
       "std       952.868995\n",
       "min        60.000000\n",
       "25%       891.000000\n",
       "50%      1396.000000\n",
       "75%      2168.000000\n",
       "max      6364.000000\n",
       "Name: Scores, dtype: float64"
      ]
     },
     "execution_count": 56,
     "metadata": {},
     "output_type": "execute_result"
    }
   ],
   "source": [
    "df.groupby('Round').Scores.max().describe()"
   ]
  },
  {
   "cell_type": "code",
   "execution_count": 48,
   "metadata": {},
   "outputs": [],
   "source": [
    "from random import sample"
   ]
  },
  {
   "cell_type": "code",
   "execution_count": 52,
   "metadata": {},
   "outputs": [
    {
     "data": {
      "text/plain": [
       "[2, 1, 3]"
      ]
     },
     "execution_count": 52,
     "metadata": {},
     "output_type": "execute_result"
    }
   ],
   "source": [
    "sample([1,2,3],3)"
   ]
  },
  {
   "cell_type": "code",
   "execution_count": null,
   "metadata": {},
   "outputs": [],
   "source": []
  }
 ],
 "metadata": {
  "kernelspec": {
   "display_name": "Python 3",
   "language": "python",
   "name": "python3"
  },
  "language_info": {
   "codemirror_mode": {
    "name": "ipython",
    "version": 3
   },
   "file_extension": ".py",
   "mimetype": "text/x-python",
   "name": "python",
   "nbconvert_exporter": "python",
   "pygments_lexer": "ipython3",
   "version": "3.6.5"
  }
 },
 "nbformat": 4,
 "nbformat_minor": 2
}
